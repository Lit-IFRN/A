{
  "nbformat": 4,
  "nbformat_minor": 0,
  "metadata": {
    "colab": {
      "name": "Prever Chuva sem pegadinha.ipynb",
      "provenance": [],
      "collapsed_sections": [],
      "toc_visible": true,
      "include_colab_link": true
    },
    "kernelspec": {
      "name": "python3",
      "display_name": "Python 3"
    }
  },
  "cells": [
    {
      "cell_type": "markdown",
      "metadata": {
        "id": "view-in-github",
        "colab_type": "text"
      },
      "source": [
        "<a href=\"https://colab.research.google.com/github/Lit-IFRN/PreverChuvaSemPegadinha/blob/main/Prever_Chuva_sem_pegadinha.ipynb\" target=\"_parent\"><img src=\"https://colab.research.google.com/assets/colab-badge.svg\" alt=\"Open In Colab\"/></a>"
      ]
    },
    {
      "cell_type": "code",
      "metadata": {
        "id": "UQwMBXa8Df-c"
      },
      "source": [
        "import numpy as np\n",
        "import matplotlib.pyplot as plt\n",
        "import pandas as pd\n",
        "from sklearn.preprocessing import MinMaxScaler\n",
        "#Imports"
      ],
      "execution_count": null,
      "outputs": []
    },
    {
      "cell_type": "code",
      "metadata": {
        "id": "hkH5g9V0m3yM"
      },
      "source": [
        ""
      ],
      "execution_count": null,
      "outputs": []
    },
    {
      "cell_type": "code",
      "metadata": {
        "id": "ueRhTWpsDjcZ",
        "outputId": "fb0610a3-93c1-4cdb-a8f8-875e9bbfd2c2",
        "colab": {
          "base_uri": "https://localhost:8080/",
          "height": 204
        }
      },
      "source": [
        "data = pd.read_csv('data.csv', date_parser = True)\n",
        "data = data.filter(['DT_MEDICAO', 'CHUVA'], axis=1)\n",
        "data.tail()\n",
        "# udud"
      ],
      "execution_count": null,
      "outputs": [
        {
          "output_type": "execute_result",
          "data": {
            "text/html": [
              "<div>\n",
              "<style scoped>\n",
              "    .dataframe tbody tr th:only-of-type {\n",
              "        vertical-align: middle;\n",
              "    }\n",
              "\n",
              "    .dataframe tbody tr th {\n",
              "        vertical-align: top;\n",
              "    }\n",
              "\n",
              "    .dataframe thead th {\n",
              "        text-align: right;\n",
              "    }\n",
              "</style>\n",
              "<table border=\"1\" class=\"dataframe\">\n",
              "  <thead>\n",
              "    <tr style=\"text-align: right;\">\n",
              "      <th></th>\n",
              "      <th>DT_MEDICAO</th>\n",
              "      <th>CHUVA</th>\n",
              "    </tr>\n",
              "  </thead>\n",
              "  <tbody>\n",
              "    <tr>\n",
              "      <th>5011</th>\n",
              "      <td>2020-09-26</td>\n",
              "      <td>0.4</td>\n",
              "    </tr>\n",
              "    <tr>\n",
              "      <th>5012</th>\n",
              "      <td>2020-09-27</td>\n",
              "      <td>0.0</td>\n",
              "    </tr>\n",
              "    <tr>\n",
              "      <th>5013</th>\n",
              "      <td>2020-09-28</td>\n",
              "      <td>1.0</td>\n",
              "    </tr>\n",
              "    <tr>\n",
              "      <th>5014</th>\n",
              "      <td>2020-09-29</td>\n",
              "      <td>0.0</td>\n",
              "    </tr>\n",
              "    <tr>\n",
              "      <th>5015</th>\n",
              "      <td>2020-09-30</td>\n",
              "      <td>0.0</td>\n",
              "    </tr>\n",
              "  </tbody>\n",
              "</table>\n",
              "</div>"
            ],
            "text/plain": [
              "      DT_MEDICAO  CHUVA\n",
              "5011  2020-09-26    0.4\n",
              "5012  2020-09-27    0.0\n",
              "5013  2020-09-28    1.0\n",
              "5014  2020-09-29    0.0\n",
              "5015  2020-09-30    0.0"
            ]
          },
          "metadata": {
            "tags": []
          },
          "execution_count": 2
        }
      ]
    },
    {
      "cell_type": "code",
      "metadata": {
        "id": "eEqhI2X2IhV2"
      },
      "source": [
        ""
      ],
      "execution_count": null,
      "outputs": []
    },
    {
      "cell_type": "code",
      "metadata": {
        "id": "XsMb8cfzD1TZ"
      },
      "source": [
        "data_test = data[data['DT_MEDICAO']>='2018-01-01'].copy()\n",
        "data_training = data[data['DT_MEDICAO']<'2020-01-01'].copy()\n",
        "\n",
        "#data_test = data_training.tail(182).append(data_test)\n",
        "data_test = data_test.drop(['DT_MEDICAO'], axis = 1)\n",
        "data_training = data_training.drop(['DT_MEDICAO'], axis = 1)\n"
      ],
      "execution_count": null,
      "outputs": []
    },
    {
      "cell_type": "code",
      "metadata": {
        "id": "gqunXrg4EGJr"
      },
      "source": [
        ""
      ],
      "execution_count": null,
      "outputs": []
    },
    {
      "cell_type": "code",
      "metadata": {
        "id": "HyAJC6mCOMzt",
        "outputId": "674a5e4e-77c7-49b3-c0ae-a20db7b2b2a1",
        "colab": {
          "base_uri": "https://localhost:8080/",
          "height": 34
        }
      },
      "source": [
        "data_test.shape"
      ],
      "execution_count": null,
      "outputs": [
        {
          "output_type": "execute_result",
          "data": {
            "text/plain": [
              "(1004, 1)"
            ]
          },
          "metadata": {
            "tags": []
          },
          "execution_count": 9
        }
      ]
    },
    {
      "cell_type": "code",
      "metadata": {
        "id": "yobqZMWKGnq7",
        "outputId": "12a1339b-ec96-479b-d4c6-fcd00b2af38f",
        "colab": {
          "base_uri": "https://localhost:8080/",
          "height": 136
        }
      },
      "source": [
        "scaler = MinMaxScaler()\n",
        "data_training = scaler.fit_transform(data_training)\n"
      ],
      "execution_count": null,
      "outputs": [
        {
          "output_type": "execute_result",
          "data": {
            "text/plain": [
              "array([[0.00486855],\n",
              "       [0.        ],\n",
              "       [0.07010711],\n",
              "       ...,\n",
              "       [0.        ],\n",
              "       [0.        ],\n",
              "       [0.        ]])"
            ]
          },
          "metadata": {
            "tags": []
          },
          "execution_count": 10
        }
      ]
    },
    {
      "cell_type": "code",
      "metadata": {
        "id": "IUuQBmvvGrQI"
      },
      "source": [
        "X_train = []\n",
        "y_train = []\n",
        "\n",
        "for i in range(182, data_training.shape[0]):\n",
        "    X_train.append(data_training[i-182:i])\n",
        "    y_train.append(data_training[i, 0])\n",
        "    \n",
        "X_train, y_train = np.array(X_train), np.array(y_train)"
      ],
      "execution_count": null,
      "outputs": []
    },
    {
      "cell_type": "code",
      "metadata": {
        "id": "Y8UZe24FHFYg"
      },
      "source": [
        ""
      ],
      "execution_count": null,
      "outputs": []
    },
    {
      "cell_type": "code",
      "metadata": {
        "id": "FG-CsIp9Gtol"
      },
      "source": [
        "from tensorflow.keras import Sequential\n",
        "from tensorflow.keras.layers import Dense, LSTM, Dropout\n",
        "from keras.layers.advanced_activations import LeakyReLU\n"
      ],
      "execution_count": null,
      "outputs": []
    },
    {
      "cell_type": "code",
      "metadata": {
        "id": "8gqzHlGhGvRI"
      },
      "source": [
        "regressor = Sequential()\n",
        "\n",
        "regressor.add(LSTM(units = 182, activation = 'relu', return_sequences = True, input_shape = (X_train.shape[1], 1)))\n",
        "regressor.add(LSTM(units = 91, activation = 'relu', return_sequences = True))\n",
        "regressor.add(LSTM(units = 182, activation = 'relu', return_sequences = False))\n",
        "\n",
        "regressor.add(Dense(units = 1))\n"
      ],
      "execution_count": null,
      "outputs": []
    },
    {
      "cell_type": "code",
      "metadata": {
        "id": "yNIeLJZvGzaA",
        "outputId": "e1a4577c-d434-47ea-ff48-f0f371874dd5",
        "colab": {
          "base_uri": "https://localhost:8080/",
          "height": 204
        }
      },
      "source": [
        "regressor.compile(optimizer='adam', loss = 'mean_squared_error', metrics=['accuracy'])\n",
        "regressor.fit(X_train, y_train, epochs=5, batch_size=2)\n"
      ],
      "execution_count": null,
      "outputs": [
        {
          "output_type": "stream",
          "text": [
            "Epoch 1/5\n",
            "2280/2280 [==============================] - 825s 362ms/step - loss: 0.0037 - accuracy: 0.5325\n",
            "Epoch 2/5\n",
            "2280/2280 [==============================] - 824s 361ms/step - loss: 0.0037 - accuracy: 0.5325\n",
            "Epoch 3/5\n",
            "2280/2280 [==============================] - 817s 358ms/step - loss: 0.0036 - accuracy: 0.5325\n",
            "Epoch 4/5\n",
            "2280/2280 [==============================] - 826s 362ms/step - loss: 0.0036 - accuracy: 0.5325\n",
            "Epoch 5/5\n",
            "2280/2280 [==============================] - 821s 360ms/step - loss: 0.0035 - accuracy: 0.5325\n"
          ],
          "name": "stdout"
        },
        {
          "output_type": "execute_result",
          "data": {
            "text/plain": [
              "<tensorflow.python.keras.callbacks.History at 0x7ffb023f5668>"
            ]
          },
          "metadata": {
            "tags": []
          },
          "execution_count": 17
        }
      ]
    },
    {
      "cell_type": "code",
      "metadata": {
        "id": "zEUNpl0dUGKJ"
      },
      "source": [
        ""
      ],
      "execution_count": null,
      "outputs": []
    },
    {
      "cell_type": "code",
      "metadata": {
        "id": "CHtnjxz-a5oe"
      },
      "source": [
        "inputs = scaler.transform(data_test)"
      ],
      "execution_count": null,
      "outputs": []
    },
    {
      "cell_type": "code",
      "metadata": {
        "id": "c_2qQActa7re",
        "outputId": "587d5e02-7e5b-44fb-c517-b00b43532818",
        "colab": {
          "base_uri": "https://localhost:8080/",
          "height": 34
        }
      },
      "source": [
        "X_test = []\n",
        "y_test = []\n",
        "\n",
        "for i in range(182, inputs.shape[0]):\n",
        "    X_test.append(inputs[i-182:i])\n",
        "    y_test.append(inputs[i, 0])\n",
        "\n",
        "X_test, y_test = np.array(X_test), np.array(y_test)\n",
        "X_test.shape, y_test.shape"
      ],
      "execution_count": null,
      "outputs": [
        {
          "output_type": "execute_result",
          "data": {
            "text/plain": [
              "((822, 182, 1), (822,))"
            ]
          },
          "metadata": {
            "tags": []
          },
          "execution_count": 40
        }
      ]
    },
    {
      "cell_type": "code",
      "metadata": {
        "id": "rvmSTkmva9bb"
      },
      "source": [
        "y_pred = regressor.predict(X_test)\n"
      ],
      "execution_count": null,
      "outputs": []
    },
    {
      "cell_type": "code",
      "metadata": {
        "id": "oCVj8nJ1a_3D"
      },
      "source": [
        "y_pred = scaler.inverse_transform(y_pred)"
      ],
      "execution_count": null,
      "outputs": []
    },
    {
      "cell_type": "code",
      "metadata": {
        "id": "aRIWgG_ebCIs"
      },
      "source": [
        "#scale = 1/0.00486855"
      ],
      "execution_count": null,
      "outputs": []
    },
    {
      "cell_type": "code",
      "metadata": {
        "id": "zIy07DPWbHxS",
        "outputId": "8ae2571c-c9ab-4656-8c70-4a5dd89c527f",
        "colab": {
          "base_uri": "https://localhost:8080/",
          "height": 34
        }
      },
      "source": [
        "#scale"
      ],
      "execution_count": null,
      "outputs": [
        {
          "output_type": "execute_result",
          "data": {
            "text/plain": [
              "205.39996508200593"
            ]
          },
          "metadata": {
            "tags": []
          },
          "execution_count": 34
        }
      ]
    },
    {
      "cell_type": "code",
      "metadata": {
        "id": "l8-Bq_FJbJ6e"
      },
      "source": [
        "#y_pred = y_pred*scale\n",
        "#y_test = y_test*scale"
      ],
      "execution_count": null,
      "outputs": []
    },
    {
      "cell_type": "code",
      "metadata": {
        "id": "zial78RRO1HU"
      },
      "source": [
        ""
      ],
      "execution_count": null,
      "outputs": []
    },
    {
      "cell_type": "code",
      "metadata": {
        "id": "bWCzLYPRdsjf",
        "outputId": "f5996dcd-40e3-45a4-8f36-be437a200daa",
        "colab": {
          "base_uri": "https://localhost:8080/",
          "height": 1000
        }
      },
      "source": [
        "y_test"
      ],
      "execution_count": null,
      "outputs": [
        {
          "output_type": "execute_result",
          "data": {
            "text/plain": [
              "array([  0.        ,   1.79999969,   0.        ,   0.        ,\n",
              "        14.19999759,  82.39998599,   0.5999999 ,   0.        ,\n",
              "        33.19999436,  43.79999255,  10.79999816,  17.99999694,\n",
              "         1.39999976,   0.        ,   0.        ,   0.        ,\n",
              "         1.59999973,   2.39999959,   0.        ,   0.39999993,\n",
              "         0.79999986,   0.        ,   0.        ,   0.        ,\n",
              "         0.        ,  20.5999965 ,   0.99999983,   0.79999986,\n",
              "         1.79999969,   0.99999983,   0.5999999 ,   0.79999986,\n",
              "         0.        ,   0.        ,   0.        ,   0.        ,\n",
              "         0.        ,   0.        ,   1.39999976,   1.1999998 ,\n",
              "         3.59999939,   6.59999888,   0.        ,   0.        ,\n",
              "         0.        ,   0.        ,   5.39999908,   0.        ,\n",
              "         0.        ,   0.        ,   0.        ,   0.        ,\n",
              "         0.        ,   0.        ,  13.39999772,   1.59999973,\n",
              "         0.        ,   0.79999986,   0.        ,   0.19999997,\n",
              "         0.        ,   0.        ,   2.39999959,   0.39999993,\n",
              "         0.        ,   0.        ,   0.        ,   9.3999984 ,\n",
              "         0.        ,   0.        ,   2.19999963,  31.59999463,\n",
              "         1.1999998 ,   0.        ,   0.        ,   0.39999993,\n",
              "         2.99999949,   0.19999997,   1.79999969,   0.5999999 ,\n",
              "         0.19999997,   0.        ,   0.39999993,   0.        ,\n",
              "         0.        ,   0.        ,   0.        ,   0.        ,\n",
              "         2.19999963,   0.        ,   0.        ,   0.        ,\n",
              "         0.        ,   0.        ,   0.        ,   0.        ,\n",
              "         0.        ,   0.        ,   0.        ,   0.        ,\n",
              "         0.        ,   0.        ,   0.        ,   0.        ,\n",
              "         0.        ,   0.        ,   0.5999999 ,   0.        ,\n",
              "         0.        ,   0.        ,   0.        ,   0.        ,\n",
              "         0.        ,   0.        ,   0.        ,   0.        ,\n",
              "         0.        ,   0.        ,   0.        ,   0.        ,\n",
              "         0.        ,   0.        ,   0.79999986,   0.        ,\n",
              "         0.        ,   0.        ,   0.        ,   0.        ,\n",
              "         0.        ,   0.        ,   2.39999959,   0.        ,\n",
              "         0.5999999 ,   0.39999993,   0.        ,   0.19999997,\n",
              "         0.19999997,   0.        ,   0.        ,   0.        ,\n",
              "         1.1999998 ,   0.        ,   0.        ,   0.        ,\n",
              "         0.        ,   0.        ,   0.        ,   0.19999997,\n",
              "         0.79999986,   0.5999999 ,   0.        ,   0.        ,\n",
              "         0.        ,   0.        ,   0.        ,   0.        ,\n",
              "         0.        ,   0.        ,   0.        ,   0.        ,\n",
              "         0.        ,  13.19999776,  28.59999514,   0.        ,\n",
              "         0.        ,   0.        ,   0.        ,   0.        ,\n",
              "         3.19999946,   0.99999983,   0.39999993,   0.39999993,\n",
              "         0.19999997,   0.19999997,   0.        ,   0.        ,\n",
              "         0.        ,   0.        ,   0.        ,   0.        ,\n",
              "         0.        ,   0.        ,   0.        ,   0.        ,\n",
              "         0.        ,   0.        ,   0.        ,   0.        ,\n",
              "         0.        ,   0.        ,   0.        ,   0.        ,\n",
              "         0.        ,  22.79999612,   0.        ,   0.39999993,\n",
              "         0.        ,   6.39999891,   0.        ,   1.1999998 ,\n",
              "         3.39999942,   0.19999997,  24.39999585,   3.19999946,\n",
              "         0.19999997,   1.1999998 ,   3.19999946,   0.        ,\n",
              "         0.        ,   0.        ,   2.19999963,   0.        ,\n",
              "         0.        ,   0.        ,   0.        ,   0.        ,\n",
              "         0.        ,   0.        ,   0.        ,   0.        ,\n",
              "         0.        ,   0.        ,   0.        ,   0.        ,\n",
              "         0.        ,   0.        ,   0.        ,   0.        ,\n",
              "         0.19999997,   0.        ,   0.        ,   0.        ,\n",
              "         0.19999997,   0.        ,   2.99999949,   0.        ,\n",
              "        11.1999981 ,  32.79999442,   0.        ,   2.79999952,\n",
              "         0.        ,   0.99999983,   0.        ,  17.19999708,\n",
              "        11.99999796,   7.79999867,   4.19999929,   0.5999999 ,\n",
              "         0.        ,   0.19999997,  21.79999629,   0.5999999 ,\n",
              "         0.19999997,  26.79999544,  34.99999405,  12.59999786,\n",
              "        10.19999827,  28.39999517,   0.19999997,  15.79999731,\n",
              "         1.99999966,   0.        ,   0.        ,   0.        ,\n",
              "         0.99999983,  33.99999422,   0.        ,   0.        ,\n",
              "         3.19999946,   1.1999998 ,  15.19999742,   8.19999861,\n",
              "        15.19999742,  60.99998963,  43.99999252,   8.7999985 ,\n",
              "         4.39999925,  11.39999806,  42.79999272,   0.99999983,\n",
              "         0.        ,   0.5999999 ,   0.        ,   0.        ,\n",
              "         0.5999999 ,  23.19999606,   8.19999861,   2.39999959,\n",
              "         0.        ,   0.        ,   0.        ,   0.        ,\n",
              "         0.39999993,   1.99999966,  62.79998932,   1.99999966,\n",
              "         0.79999986,   9.79999833, 110.99998113,   0.19999997,\n",
              "         0.        ,   0.        ,   1.79999969,  35.59999395,\n",
              "        23.99999592,   0.        ,   0.        ,   0.        ,\n",
              "         0.        ,   0.        ,   0.19999997,  53.59999089,\n",
              "         0.        ,   0.        ,   1.1999998 ,   0.        ,\n",
              "         0.        ,   0.79999986,   0.        ,   0.        ,\n",
              "         0.        ,  12.59999786,   0.99999983,  39.19999334,\n",
              "         4.19999929,   2.19999963,   0.        ,   0.        ,\n",
              "        17.39999704,  26.19999555,   0.5999999 ,   1.99999966,\n",
              "         7.19999878,  11.59999803,   0.        ,   0.        ,\n",
              "         0.        ,   0.        ,   0.        ,   0.        ,\n",
              "         0.        ,   0.        ,   0.        ,  44.79999238,\n",
              "         5.99999898,  39.19999334,  50.19999147, 107.79998167,\n",
              "        31.59999463,  22.79999612,   8.99999847,   6.99999881,\n",
              "         0.        ,   0.19999997,   0.        ,   0.        ,\n",
              "         0.        ,   1.39999976,   0.        ,   0.39999993,\n",
              "         1.39999976,   0.19999997,  16.19999725,   3.99999932,\n",
              "        19.79999663,   0.        ,   9.19999844,   0.79999986,\n",
              "        16.99999711,   0.        ,   0.        ,   0.        ,\n",
              "         0.        ,  14.39999755,   1.39999976,   8.7999985 ,\n",
              "         7.59999871,   0.        ,  14.99999745,   2.19999963,\n",
              "         0.        ,   0.        ,   0.5999999 ,  19.79999663,\n",
              "         0.39999993,   1.1999998 ,   4.39999925,   0.        ,\n",
              "         1.99999966,  33.39999432,  16.99999711,  13.39999772,\n",
              "         0.        ,   0.        ,   3.79999935,   2.19999963,\n",
              "         2.79999952,   3.39999942,   1.59999973,   0.5999999 ,\n",
              "        18.7999968 ,   9.9999983 ,   1.79999969,   2.59999956,\n",
              "         0.79999986,   0.        ,   0.        ,   4.39999925,\n",
              "         4.79999918,   1.39999976,   1.1999998 ,   4.59999922,\n",
              "         0.19999997,   0.19999997,   0.        ,   0.        ,\n",
              "         0.        ,   0.        ,   0.        ,   2.19999963,\n",
              "         0.        ,   0.19999997,   0.        ,   0.        ,\n",
              "         0.        ,   0.19999997,   0.        ,   0.19999997,\n",
              "         0.        ,   0.        ,   5.39999908,   0.39999993,\n",
              "         0.99999983,   5.99999898,   2.99999949,   0.        ,\n",
              "         2.59999956,  23.99999592,   4.39999925,   0.99999983,\n",
              "         0.        ,   0.        ,   2.59999956,   0.        ,\n",
              "         0.        ,   0.        ,   2.19999963,   1.1999998 ,\n",
              "         1.39999976,   0.99999983,   0.        ,   0.        ,\n",
              "         0.        ,   0.        ,   0.        ,   0.        ,\n",
              "         0.        ,   0.19999997,   0.79999986,   0.        ,\n",
              "         0.        ,   0.79999986,   0.        ,   0.        ,\n",
              "         0.        ,   2.99999949,   2.19999963,   0.19999997,\n",
              "         0.79999986,   2.59999956,   7.99999864,   0.        ,\n",
              "         0.        ,   0.5999999 ,   0.        ,   0.        ,\n",
              "         0.        ,   0.        ,   0.        ,   0.        ,\n",
              "         0.        ,   0.        ,   1.1999998 ,   0.        ,\n",
              "         0.        ,   0.        ,   0.        ,   0.        ,\n",
              "         0.39999993,   0.39999993,   0.        ,   0.        ,\n",
              "         0.        ,   0.        ,   0.        ,   0.        ,\n",
              "         0.        ,   0.        ,   0.        ,   0.        ,\n",
              "         0.        ,   0.        ,   0.        ,   0.        ,\n",
              "         0.        ,   0.        ,   0.        ,   1.1999998 ,\n",
              "         0.        ,   0.        ,   0.        ,   0.        ,\n",
              "         0.99999983,   0.        ,   0.        ,   0.        ,\n",
              "         0.        ,   0.        ,   0.        ,   0.        ,\n",
              "         0.        ,   0.        ,   0.        ,   0.        ,\n",
              "         0.        ,   0.        ,   0.        ,   0.        ,\n",
              "         0.        ,  14.39999755,   0.        ,   0.99999983,\n",
              "         0.19999997,   0.        ,   0.        ,   0.39999993,\n",
              "         0.79999986,   0.39999993,   0.        ,   0.        ,\n",
              "         0.        ,   0.        ,   0.        ,   0.        ,\n",
              "         0.        ,   0.        ,   0.        ,   0.        ,\n",
              "         0.        ,   0.        ,   1.79999969,   0.39999993,\n",
              "         0.        ,   0.        ,   0.        ,  26.79999544,\n",
              "        54.59999072,  26.99999541,   0.        ,   0.        ,\n",
              "         0.        ,   0.        ,   0.        ,   0.        ,\n",
              "         0.        ,  46.99999201,   1.39999976,   0.        ,\n",
              "         0.        ,   0.        ,   0.39999993,   0.5999999 ,\n",
              "         1.59999973,   0.19999997,   1.39999976,   0.        ,\n",
              "         0.        ,   7.59999871,   0.19999997,   0.        ,\n",
              "         0.        ,   5.79999901,   0.99999983,   1.1999998 ,\n",
              "         0.19999997,   0.        ,   0.        ,   0.        ,\n",
              "         0.39999993,   0.        ,   0.        ,  13.99999762,\n",
              "        32.39999449,   0.19999997,   0.        ,   4.59999922,\n",
              "         0.19999997,   1.39999976, 104.99998215,  14.19999759,\n",
              "         0.19999997,   0.        ,   0.        ,   0.        ,\n",
              "         0.        ,   0.        ,   0.        ,   1.1999998 ,\n",
              "        41.99999286,   6.99999881,   0.        ,   1.79999969,\n",
              "         0.        ,  15.19999742,   3.99999932,   0.19999997,\n",
              "         0.        ,   0.        ,   1.79999969,  44.19999249,\n",
              "       119.79997963,  32.99999439,   0.5999999 ,  13.39999772,\n",
              "         0.19999997,   0.        ,   0.        ,   0.        ,\n",
              "         0.        ,   0.        ,   0.        ,   0.        ,\n",
              "        12.19999793,   0.39999993,   0.        ,   6.99999881,\n",
              "         2.39999959,  23.99999592,  56.59999038,   0.19999997,\n",
              "         5.19999912,  32.19999453,   1.1999998 ,   2.99999949,\n",
              "         6.59999888,   0.        ,   0.19999997,   0.        ,\n",
              "         0.99999983,   5.19999912,   0.        ,   0.        ,\n",
              "         0.        ,  36.59999378,  28.39999517,   6.59999888,\n",
              "         7.99999864,   0.        ,   2.39999959,  17.19999708,\n",
              "        40.99999303,   0.39999993,   4.99999915,   9.59999837,\n",
              "         2.59999956,   4.79999918,   1.39999976,   2.79999952,\n",
              "         5.99999898,   1.79999969,   3.79999935,   5.99999898,\n",
              "         1.59999973,  50.99999133,  36.19999385,   0.        ,\n",
              "         0.        ,   0.        ,   0.        ,   0.        ,\n",
              "         0.        ,   4.79999918,   3.39999942,  23.19999606,\n",
              "        81.39998616,  45.19999232,   0.        ,   0.        ,\n",
              "         7.79999867,  14.59999752,   1.79999969,  78.59998664,\n",
              "         9.79999833,  24.39999585,   1.1999998 ,   0.        ,\n",
              "        13.99999762,   2.59999956,   2.99999949,  11.99999796,\n",
              "         0.        ,   0.39999993,   1.39999976,   0.        ,\n",
              "         4.59999922,   0.19999997,  13.79999765,   0.19999997,\n",
              "         0.        ,  46.19999215,  59.9999898 ,  14.99999745,\n",
              "         3.99999932,   0.        ,   0.39999993,  13.79999765,\n",
              "         7.99999864,  14.79999748,  32.19999453,  44.19999249,\n",
              "         2.59999956,   0.        ,   0.        ,   0.        ,\n",
              "         0.        ,   0.        ,  24.39999585,  11.39999806,\n",
              "         8.99999847,   0.        ,   4.59999922,   0.        ,\n",
              "         0.        ,   0.        ,   0.        ,  71.39998786,\n",
              "        15.19999742,   0.        ,  13.99999762,   0.99999983,\n",
              "         0.        ,  45.39999228,   0.5999999 ,   0.        ,\n",
              "         0.        ,   0.        ,   8.59999854,  26.59999548,\n",
              "         1.99999966,   3.59999939,  11.99999796,   1.99999966,\n",
              "         0.        ,   0.        ,   0.        ,   0.99999983,\n",
              "        19.19999674,  10.99999813,   0.        ,   0.19999997,\n",
              "         0.5999999 ,   0.39999993,   0.39999993,   0.        ,\n",
              "         0.        ,   0.39999993,   0.99999983,   3.19999946,\n",
              "         0.        ,   0.39999993,   1.79999969,   0.79999986,\n",
              "         0.19999997,   0.        ,   0.        ,   4.19999929,\n",
              "         0.39999993,   0.        ,   0.        ,   0.19999997,\n",
              "         0.        ,  12.79999782,   0.        ,   0.39999993,\n",
              "         0.        ,   0.        ,   0.        ,   0.        ,\n",
              "         0.        ,   0.        ,   3.39999942,   3.19999946,\n",
              "        17.59999701,   0.19999997,   0.        ,   1.39999976,\n",
              "         0.39999993,   0.39999993,   0.        ,   0.        ,\n",
              "         0.        ,  14.59999752,   0.        ,   0.        ,\n",
              "         0.5999999 ,   0.        ,   0.99999983,   1.79999969,\n",
              "         1.39999976,   0.        ,   0.        ,   0.        ,\n",
              "         0.        ,   0.        ,   0.        ,   0.        ,\n",
              "         0.19999997,   0.39999993,   0.        ,   0.99999983,\n",
              "         0.        ,   0.        ])"
            ]
          },
          "metadata": {
            "tags": []
          },
          "execution_count": 25
        }
      ]
    },
    {
      "cell_type": "code",
      "metadata": {
        "id": "4t22PjSYbMFB",
        "outputId": "9475495c-8f17-402d-d87f-918ba92cebec",
        "colab": {
          "base_uri": "https://localhost:8080/",
          "height": 350
        }
      },
      "source": [
        "plt.figure(figsize=(14,5))\n",
        "plt.plot(y_test, color = 'red', label = 'Real Rain mm')\n",
        "plt.plot(y_pred, color = 'blue', label = 'Predicted Rain mm')\n",
        "\n",
        "plt.title('Rain Prediction')\n",
        "plt.xlabel('Time')\n",
        "plt.ylabel('Rain (mm)')\n",
        "plt.legend()\n",
        "plt.show()"
      ],
      "execution_count": null,
      "outputs": [
        {
          "output_type": "display_data",
          "data": {
            "image/png": "[encoded data removed]",
            "text/plain": [
              "<Figure size 1008x360 with 1 Axes>"
            ]
          },
          "metadata": {
            "tags": [],
            "needs_background": "light"
          }
        }
      ]
    },
    {
      "cell_type": "code",
      "metadata": {
        "id": "BS0GhklUhrl8",
        "outputId": "ab05cc39-ee8e-4322-8440-10f63484879e",
        "colab": {
          "base_uri": "https://localhost:8080/",
          "height": 350
        }
      },
      "source": [
        "# Get last 182 days to predict tomorrow\n",
        "necessaryDataToPredict = data.tail(182).drop(\"DT_MEDICAO\", axis=1)\n",
        "\n",
        "# Scale the last 182 days to between 0 and 1\n",
        "scaledNecessaryDataToPredict = scaler.transform(necessaryDataToPredict)\n",
        "\n",
        "# Convert the last 182 days to numpy array\n",
        "npArrayScaledNecessaryDataToPredict = np.array([scaledNecessaryDataToPredict])\n",
        "\n",
        "# Predict value\n",
        "predicts = regressor.predict(npArrayScaledNecessaryDataToPredict)\n",
        "\n",
        "# Revert predict scale (it was between 0 and 1 and now is the real value)\n",
        "\n",
        "predictedValues = []\n",
        "\n",
        "for i in range(0, 365):\n",
        "  alo = np.append(npArrayScaledNecessaryDataToPredict[0], predicts, axis=0)\n",
        "  alo = np.delete(alo, 0, axis=0)\n",
        "  npArrayScaledNecessaryDataToPredict[0] = alo\n",
        "  npArrayScaledNecessaryDataToPredict\n",
        "\n",
        "  predicts = regressor.predict(npArrayScaledNecessaryDataToPredict)\n",
        "  predictedValues.append(predicts[0])\n",
        "\n",
        "predictedValues = np.array(predictedValues)\n",
        "predictedValues *= scale\n",
        "predictedValues\n",
        "\n",
        "plt.figure(figsize=(14,5))\n",
        "plt.plot(predictedValues, color = 'red', label = 'Predicted Rain 2021')\n",
        "plt.title('Predicted Rain 2021')\n",
        "plt.xlabel('Time')\n",
        "plt.ylabel('Rain (mm)')\n",
        "plt.legend()\n",
        "plt.show()"
      ],
      "execution_count": null,
      "outputs": [
        {
          "output_type": "display_data",
          "data": {
            "image/png": "[encoded data removed]",
            "text/plain": [
              "<Figure size 1008x360 with 1 Axes>"
            ]
          },
          "metadata": {
            "tags": [],
            "needs_background": "light"
          }
        }
      ]
    }
  ]
}